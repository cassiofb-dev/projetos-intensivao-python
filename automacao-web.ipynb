{
 "metadata": {
  "language_info": {
   "codemirror_mode": {
    "name": "ipython",
    "version": 3
   },
   "file_extension": ".py",
   "mimetype": "text/x-python",
   "name": "python",
   "nbconvert_exporter": "python",
   "pygments_lexer": "ipython3",
   "version": "3.9.5"
  },
  "orig_nbformat": 4,
  "kernelspec": {
   "name": "python3",
   "display_name": "Python 3.9.5 64-bit"
  },
  "interpreter": {
   "hash": "63fd5069d213b44bf678585dea6b12cceca9941eaf7f819626cde1f2670de90d"
  }
 },
 "nbformat": 4,
 "nbformat_minor": 2,
 "cells": [
  {
   "source": [
    "# Automação Web e Busca de Informações com Python\n",
    "\n",
    "## Sobre\n",
    "\n",
    "Nesse notebook é apresentado um projeto em python que realiza as seguintes tarefas:\n",
    "\n",
    "0. Entender o desafio proposto\n",
    "1. Buscar informações na Web\n",
    "2. Atualizar a base de dados\n",
    "\n",
    "## Desafio\n",
    "\n",
    "> Trabalhamos em uma importadora e o preço dos nossos produtos é vinculado a cotação de:\n",
    "- Dólar\n",
    "- Euro\n",
    "- Ouro\n",
    "\n",
    "> Precisamos pegar na internet, de forma automática, a cotação desses 3 itens e saber quanto devemos cobrar pelos nossos produtos, considerando uma margem de contribuição que temos na nossa base de dados.\n",
    "\n",
    "## Agradecimento\n",
    "\n",
    "Esse projeto foi desenvolvido graças ao Profº Lira e a [hashtag](https://www.hashtagtreinamentos.com/) pela realização do evento intensivão de python.\n"
   ],
   "cell_type": "markdown",
   "metadata": {}
  },
  {
   "source": [
    "# 01: Bibliotecas Necessárias\n",
    "\n",
    "Para desenvolver esse programa iremos precisar das seguintes bibliotecas:\n",
    "\n",
    "1. [Pandas](https://pandas.pydata.org/pandas-docs/stable/getting_started/index.html): Para análise de dados\n",
    "2. [Selenium](https://selenium-python.readthedocs.io/): Para automação WEB\n",
    "\n",
    "Realizando a instalação no terminal:\n",
    "\n",
    "```shell\n",
    "pip install pandas\n",
    "pip install selenium\n",
    "```"
   ],
   "cell_type": "markdown",
   "metadata": {}
  },
  {
   "cell_type": "code",
   "execution_count": 1,
   "metadata": {},
   "outputs": [],
   "source": [
    "import pandas as pd                             # Pandas para análise de dados\n",
    "from selenium import webdriver                  # Webdriver para navegação web\n",
    "from selenium.webdriver.common.keys import Keys # Teclas como ENTER"
   ]
  },
  {
   "source": [
    "# 02: Buscando Informações na Web\n",
    "\n",
    "Nessa etapa iremos coletar os dados da web utilizando o selenium.\n",
    "\n",
    "Obs: O plano poderia ser mais curto, mais ele foi propositalmente alongado para demonstrar as funcionalidades do selenium.\n",
    "\n",
    "## O plano:\n",
    "\n",
    "1. Entrar no site do google\n",
    "2. Digitar \"cotação dolar\"\n",
    "3. Apertar ENTER para pesquisar\n",
    "4. Coletar a cotação informada\n",
    "\n",
    "Porém isso só da certo para moedas, e ao pesquisar \"cotação ouro\" aparece um resultado diferente que é tirado de outro site, por isso nosso plano não funciona mais 😢.\n",
    "\n",
    "## O plano B:\n",
    "\n",
    "1. Entrar no site do melhor cambio\n",
    "2. Pesquisar e clicar no ícone \"Ouro Hoje\"\n",
    "3. Mudar de aba do navegador\n",
    "4. Coletar a cotação informada\n"
   ],
   "cell_type": "markdown",
   "metadata": {}
  },
  {
   "cell_type": "code",
   "execution_count": 2,
   "metadata": {},
   "outputs": [
    {
     "output_type": "stream",
     "name": "stdout",
     "text": [
      "Ouro:280.47\nEuro:5.868913578000001\nDolar:4.9147\n"
     ]
    }
   ],
   "source": [
    "nav = webdriver.Chrome()    # Inicia o driver do chrome\n",
    "\n",
    "xpaths = {  # Armazena xpaths em um dicionário\n",
    "    'google_input': '/html/body/div[1]/div[3]/form/div[1]/div[1]/div[1]/div/div[2]/input',\n",
    "    'cotacao': '//*[@id=\"knowledge-currency__updatable-data-column\"]/div[1]/div[2]/span[1]',\n",
    "    'icone_ouro': '//*[@id=\"commodity-hoje\"]/tbody/tr[2]/td[2]/a/img',\n",
    "}\n",
    "\n",
    "def cotacao(moeda): # Função para pegar a cotação de uma moeda\n",
    "    nav.get('https://www.google.com/')  # Abre o site do google\n",
    "    nav.find_element_by_xpath(xpaths['google_input']).send_keys(f'cotação {moeda}') # Escreve a pesquisa\n",
    "    nav.find_element_by_xpath(xpaths['google_input']).send_keys(Keys.ENTER)         # Pesquisa a cotação\n",
    "    return nav.find_element_by_xpath(xpaths['cotacao']).get_attribute('data-value') # Retorna a cotação\n",
    "\n",
    "cotacao_dolar = cotacao('dolar')    # Pega cotação do dolar\n",
    "cotacao_euro = cotacao('euro')      # Pega cotação do euro\n",
    "\n",
    "nav.get('https://www.melhorcambio.com/')    # Abre o site do melhor cambio\n",
    "\n",
    "aba_original = nav.window_handles[0]        # Armazena a aba para um futuro switch\n",
    "\n",
    "nav.find_element_by_xpath(xpaths['icone_ouro']).click() # Clina no ícone do ouro\n",
    "\n",
    "aba_nova = nav.window_handles[1]            # Armazena a aba nova\n",
    "\n",
    "nav.switch_to.window(aba_nova)              # Muda de aba para aba nova\n",
    "\n",
    "cotacao_ouro = nav.find_element_by_id('comercial').get_attribute('value')   # Pega o valor do ouro\n",
    "\n",
    "cotacao_ouro = cotacao_ouro.replace(\",\", \".\")   # Troca vírgula por ponto\n",
    "\n",
    "print(f'Ouro:{cotacao_ouro}\\nEuro:{cotacao_euro}\\nDolar:{cotacao_dolar}')   # Printa as cotações\n",
    "\n",
    "nav.quit()  # Fecha o navegador"
   ]
  },
  {
   "source": [
    "# 03: Atualizando a Base de Dados\n",
    "\n",
    "Agora que nós conseguimos os valores atualizados das cotações, devemos fazer a atualização de nossa base de dados, para isso iremos usar o pandas. Vamos também aproveitar para fazer uma rápida checagem nos dados para verificar dados faltantes, tipagem errada ou preenchimento errado.\n"
   ],
   "cell_type": "markdown",
   "metadata": {}
  },
  {
   "cell_type": "code",
   "execution_count": 3,
   "metadata": {},
   "outputs": [
    {
     "output_type": "display_data",
     "data": {
      "text/plain": "         Produtos  Preço Base Original  Moeda  Cotação  Preço Base Reais  \\\n0    Câmera Canon               999.99  Dólar        5           4999.95   \n1   Carro Renault              4500.00   Euro        6          27000.00   \n2   Notebook Dell               899.99  Dólar        5           4499.95   \n3          IPhone               799.00  Dólar        5           3995.00   \n4      Carro Fiat              3000.00   Euro        6          18000.00   \n5  Celular Xiaomi               480.48  Dólar        5           2402.40   \n6        Joia 20g                20.00   Ouro      350           7000.00   \n\n   Margem  Preço Final  \n0    1.40     6999.930  \n1    2.00    54000.000  \n2    1.70     7649.915  \n3    1.70     6791.500  \n4    1.90    34200.000  \n5    2.00     4804.800  \n6    1.15     8050.000  ",
      "text/html": "<div>\n<style scoped>\n    .dataframe tbody tr th:only-of-type {\n        vertical-align: middle;\n    }\n\n    .dataframe tbody tr th {\n        vertical-align: top;\n    }\n\n    .dataframe thead th {\n        text-align: right;\n    }\n</style>\n<table border=\"1\" class=\"dataframe\">\n  <thead>\n    <tr style=\"text-align: right;\">\n      <th></th>\n      <th>Produtos</th>\n      <th>Preço Base Original</th>\n      <th>Moeda</th>\n      <th>Cotação</th>\n      <th>Preço Base Reais</th>\n      <th>Margem</th>\n      <th>Preço Final</th>\n    </tr>\n  </thead>\n  <tbody>\n    <tr>\n      <th>0</th>\n      <td>Câmera Canon</td>\n      <td>999.99</td>\n      <td>Dólar</td>\n      <td>5</td>\n      <td>4999.95</td>\n      <td>1.40</td>\n      <td>6999.930</td>\n    </tr>\n    <tr>\n      <th>1</th>\n      <td>Carro Renault</td>\n      <td>4500.00</td>\n      <td>Euro</td>\n      <td>6</td>\n      <td>27000.00</td>\n      <td>2.00</td>\n      <td>54000.000</td>\n    </tr>\n    <tr>\n      <th>2</th>\n      <td>Notebook Dell</td>\n      <td>899.99</td>\n      <td>Dólar</td>\n      <td>5</td>\n      <td>4499.95</td>\n      <td>1.70</td>\n      <td>7649.915</td>\n    </tr>\n    <tr>\n      <th>3</th>\n      <td>IPhone</td>\n      <td>799.00</td>\n      <td>Dólar</td>\n      <td>5</td>\n      <td>3995.00</td>\n      <td>1.70</td>\n      <td>6791.500</td>\n    </tr>\n    <tr>\n      <th>4</th>\n      <td>Carro Fiat</td>\n      <td>3000.00</td>\n      <td>Euro</td>\n      <td>6</td>\n      <td>18000.00</td>\n      <td>1.90</td>\n      <td>34200.000</td>\n    </tr>\n    <tr>\n      <th>5</th>\n      <td>Celular Xiaomi</td>\n      <td>480.48</td>\n      <td>Dólar</td>\n      <td>5</td>\n      <td>2402.40</td>\n      <td>2.00</td>\n      <td>4804.800</td>\n    </tr>\n    <tr>\n      <th>6</th>\n      <td>Joia 20g</td>\n      <td>20.00</td>\n      <td>Ouro</td>\n      <td>350</td>\n      <td>7000.00</td>\n      <td>1.15</td>\n      <td>8050.000</td>\n    </tr>\n  </tbody>\n</table>\n</div>"
     },
     "metadata": {}
    },
    {
     "output_type": "stream",
     "name": "stdout",
     "text": [
      "<class 'pandas.core.frame.DataFrame'>\nRangeIndex: 7 entries, 0 to 6\nData columns (total 7 columns):\n #   Column               Non-Null Count  Dtype  \n---  ------               --------------  -----  \n 0   Produtos             7 non-null      object \n 1   Preço Base Original  7 non-null      float64\n 2   Moeda                7 non-null      object \n 3   Cotação              7 non-null      int64  \n 4   Preço Base Reais     7 non-null      float64\n 5   Margem               7 non-null      float64\n 6   Preço Final          7 non-null      float64\ndtypes: float64(4), int64(1), object(2)\nmemory usage: 520.0+ bytes\nNone\nProdutos               0\nPreço Base Original    0\nMoeda                  0\nCotação                0\nPreço Base Reais       0\nMargem                 0\nPreço Final            0\ndtype: int64\n"
     ]
    }
   ],
   "source": [
    "produtos = pd.read_excel('data/Produtos.xlsx')\n",
    "\n",
    "display(produtos)               # Exibe o DataFrame\n",
    "print(produtos.info())          # Exibe metadados do DataFrame\n",
    "print(produtos.isna().sum())    # Exibe número de valores faltantes por coluna"
   ]
  },
  {
   "source": [
    "Após o importe e checagem da base de dados devemos atualizar os valores antigos e persistir essas mudanças em uma planilha atualizada. Obs: A tipagem retirada da web é ``string``, devemos fazer um cast para float.\n"
   ],
   "cell_type": "markdown",
   "metadata": {}
  },
  {
   "cell_type": "code",
   "execution_count": 4,
   "metadata": {},
   "outputs": [
    {
     "output_type": "display_data",
     "data": {
      "text/plain": "         Produtos  Preço Base Original  Moeda     Cotação  Preço Base Reais  \\\n0    Câmera Canon               999.99  Dólar    4.914700       4914.650853   \n1   Carro Renault              4500.00   Euro    5.868914      26410.111101   \n2   Notebook Dell               899.99  Dólar    4.914700       4423.180853   \n3          IPhone               799.00  Dólar    4.914700       3926.845300   \n4      Carro Fiat              3000.00   Euro    5.868914      17606.740734   \n5  Celular Xiaomi               480.48  Dólar    4.914700       2361.415056   \n6        Joia 20g                20.00   Ouro  280.470000       5609.400000   \n\n   Margem   Preço Final  \n0    1.40   6880.511194  \n1    2.00  52820.222202  \n2    1.70   7519.407450  \n3    1.70   6675.637010  \n4    1.90  33452.807395  \n5    2.00   4722.830112  \n6    1.15   6450.810000  ",
      "text/html": "<div>\n<style scoped>\n    .dataframe tbody tr th:only-of-type {\n        vertical-align: middle;\n    }\n\n    .dataframe tbody tr th {\n        vertical-align: top;\n    }\n\n    .dataframe thead th {\n        text-align: right;\n    }\n</style>\n<table border=\"1\" class=\"dataframe\">\n  <thead>\n    <tr style=\"text-align: right;\">\n      <th></th>\n      <th>Produtos</th>\n      <th>Preço Base Original</th>\n      <th>Moeda</th>\n      <th>Cotação</th>\n      <th>Preço Base Reais</th>\n      <th>Margem</th>\n      <th>Preço Final</th>\n    </tr>\n  </thead>\n  <tbody>\n    <tr>\n      <th>0</th>\n      <td>Câmera Canon</td>\n      <td>999.99</td>\n      <td>Dólar</td>\n      <td>4.914700</td>\n      <td>4914.650853</td>\n      <td>1.40</td>\n      <td>6880.511194</td>\n    </tr>\n    <tr>\n      <th>1</th>\n      <td>Carro Renault</td>\n      <td>4500.00</td>\n      <td>Euro</td>\n      <td>5.868914</td>\n      <td>26410.111101</td>\n      <td>2.00</td>\n      <td>52820.222202</td>\n    </tr>\n    <tr>\n      <th>2</th>\n      <td>Notebook Dell</td>\n      <td>899.99</td>\n      <td>Dólar</td>\n      <td>4.914700</td>\n      <td>4423.180853</td>\n      <td>1.70</td>\n      <td>7519.407450</td>\n    </tr>\n    <tr>\n      <th>3</th>\n      <td>IPhone</td>\n      <td>799.00</td>\n      <td>Dólar</td>\n      <td>4.914700</td>\n      <td>3926.845300</td>\n      <td>1.70</td>\n      <td>6675.637010</td>\n    </tr>\n    <tr>\n      <th>4</th>\n      <td>Carro Fiat</td>\n      <td>3000.00</td>\n      <td>Euro</td>\n      <td>5.868914</td>\n      <td>17606.740734</td>\n      <td>1.90</td>\n      <td>33452.807395</td>\n    </tr>\n    <tr>\n      <th>5</th>\n      <td>Celular Xiaomi</td>\n      <td>480.48</td>\n      <td>Dólar</td>\n      <td>4.914700</td>\n      <td>2361.415056</td>\n      <td>2.00</td>\n      <td>4722.830112</td>\n    </tr>\n    <tr>\n      <th>6</th>\n      <td>Joia 20g</td>\n      <td>20.00</td>\n      <td>Ouro</td>\n      <td>280.470000</td>\n      <td>5609.400000</td>\n      <td>1.15</td>\n      <td>6450.810000</td>\n    </tr>\n  </tbody>\n</table>\n</div>"
     },
     "metadata": {}
    }
   ],
   "source": [
    "produtos.loc[produtos['Moeda']=='Dólar', 'Cotação'] = float(cotacao_dolar)  # Atualiza cotação do dolar\n",
    "produtos.loc[produtos['Moeda']=='Euro', 'Cotação'] = float(cotacao_euro)    # Atualiza cotação do euro\n",
    "produtos.loc[produtos['Moeda']=='Ouro', 'Cotação'] = float(cotacao_ouro)    # Atualiza cotação do ouro\n",
    "\n",
    "# Atualiza o preço base em real\n",
    "produtos['Preço Base Reais'] = produtos['Cotação'] * produtos['Preço Base Original']\n",
    "# Atualiza o preço final\n",
    "produtos['Preço Final'] = produtos['Margem'] * produtos['Preço Base Reais']\n",
    "\n",
    "display(produtos)   # Mostra tabela atualizada"
   ]
  },
  {
   "source": [
    "Finalmente persistimos a mudança na tabela em disco.\n"
   ],
   "cell_type": "markdown",
   "metadata": {}
  },
  {
   "cell_type": "code",
   "execution_count": 5,
   "metadata": {},
   "outputs": [],
   "source": [
    "produtos.to_excel(\"data/Produtos Atualizado.xlsx\", index=False)"
   ]
  }
 ]
}
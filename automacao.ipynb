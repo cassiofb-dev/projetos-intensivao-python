{
 "metadata": {
  "language_info": {
   "codemirror_mode": {
    "name": "ipython",
    "version": 3
   },
   "file_extension": ".py",
   "mimetype": "text/x-python",
   "name": "python",
   "nbconvert_exporter": "python",
   "pygments_lexer": "ipython3",
   "version": "3.9.5"
  },
  "orig_nbformat": 4,
  "kernelspec": {
   "name": "python3",
   "display_name": "Python 3.9.5 64-bit"
  },
  "interpreter": {
   "hash": "63fd5069d213b44bf678585dea6b12cceca9941eaf7f819626cde1f2670de90d"
  }
 },
 "nbformat": 4,
 "nbformat_minor": 2,
 "cells": [
  {
   "source": [
    "# Automação de Sistemas e Processos com Python\n",
    "\n",
    "## Sobre\n",
    "\n",
    "Nesse notebook é apresentado um projeto em python que realiza as seguintes tarefas:\n",
    "\n",
    "0. Entender o desafio proposto\n",
    "1. Baixar uma base de dados não local\n",
    "2. Importar a base de dados baixada\n",
    "3. Realizar uma análise exploratória\n",
    "4. Filtrar os dados de maneira adequada\n",
    "5. Analisar os dados\n",
    "6. Gerar relatórios com indicadores\n",
    "7. Disparar emails com os indicadores obtidos\n",
    "\n",
    "## Desafio\n",
    "\n",
    "> Todos os dias, o nosso sistema atualiza as vendas do dia anterior. O seu trabalho diário, como analista, é enviar um e-mail para a diretoria, assim que começar a trabalhar, com o faturamento e a quantidade de produtos vendidos no dia anterior.\n",
    "\n",
    "## Agradecimento\n",
    "\n",
    "Esse projeto foi desenvolvido graças ao Profº Lira e a [hashtag](https://www.hashtagtreinamentos.com/) pela realização do evento intensivão de python.\n"
   ],
   "cell_type": "markdown",
   "metadata": {}
  },
  {
   "source": [
    "# 01: Bibliotecas Necessárias\n",
    "\n",
    "Para desenvolver esse programa iremos precisar das seguintes bibliotecas:\n",
    "\n",
    "1. [pyautogui](https://pyautogui.readthedocs.io/en/latest/): Para automação do mouse e teclado\n",
    "2. [pyperclip](https://pyperclip.readthedocs.io/en/latest/): Para gerenciar a área de transferência\n",
    "3. [time](https://docs.python.org/3/library/time.html): Para utilizar funções relacionadas com o tempo\n",
    "4. [Pandas](https://pandas.pydata.org/pandas-docs/stable/getting_started/index.html): Para análise de dados\n",
    "\n",
    "Realizando a instalação no terminal:\n",
    "\n",
    "```shell\n",
    "pip install pyautogui\n",
    "pip install pyperclip\n",
    "pip install pandas\n",
    "```\n",
    "\n",
    "Obs: A biblioteca time já vem inclusa no python.\n"
   ],
   "cell_type": "markdown",
   "metadata": {}
  },
  {
   "cell_type": "code",
   "execution_count": 1,
   "metadata": {},
   "outputs": [],
   "source": [
    "import time         # Importa a biblioteca time do python\n",
    "import pyautogui    # Importa a biblioteca pyaotugui\n",
    "import pyperclip    # Importa a biblioteca pyperclip\n",
    "import pandas as pd # Importa a biblioteca pandas"
   ]
  },
  {
   "source": [
    "# 02: Baixando a Base de Dados\n",
    "\n",
    "Nessa etapa será realizado o download da base de dados que nesse problema está disponibilizada por um link do google drive.\n",
    "\n",
    "Para uma leitura mais semântica do código, um conjunto de linhas de código que realiza uma tarefa em sua totalidade será agrupada em uma função.\n"
   ],
   "cell_type": "markdown",
   "metadata": {}
  },
  {
   "cell_type": "code",
   "execution_count": 2,
   "metadata": {},
   "outputs": [],
   "source": [
    "pyautogui.PAUSE = 1 # Realiza intervalos de 1s entre as operações do pyautogui\n",
    "\n",
    "def escrever(mensagem):             # Função utilitária para escrever uma mensagem\n",
    "    pyperclip.copy(mensagem)        # Copia a mensagem\n",
    "    pyautogui.hotkey('ctrl', 'v')   # Cola a mensagem\n",
    "\n",
    "def abrir_chrome():                 # Função para abrir o navegador chrome\n",
    "    pyautogui.press('winleft')      # Abre o menu do windows\n",
    "    pyautogui.write('chrome')       # Pesquisa pelo termo chrome\n",
    "    pyautogui.press('enter')        # Abre o navegador chrome\n",
    "\n",
    "def abrir_drive():              # Função para abrir o google drive\n",
    "    link = 'https://drive.google.com/drive/folders/1mp-bZvIbi3wJLb_xS1GDlGb93sBoayu4?usp=sharing'   # Link da base de dados\n",
    "    escrever(link)                  # Escreve o link\n",
    "    pyautogui.press('enter')        # Acessa o link\n",
    "    time.sleep(5)                   # Realiza uma pausa de 5s para carregamento da página\n",
    "\n",
    "def pegar_posicao():                # Função utilitária para pegar a posição (x,y) na tela\n",
    "    time.sleep(5)                   # Pausa de 5s para colocar o mouse no alvo\n",
    "    print(pyautogui.position())     # Retorna a posição do alvo\n",
    "\n",
    "def baixar_dados():                 # Função para realizar o download dos dados\n",
    "    pyautogui.rightClick(285, 250)  # Abre o menu da base de dados\n",
    "    pyautogui.click(385, 640)       # Realiza o download dos dados\n",
    "    time.sleep(5)                   # Espera realizar o download"
   ]
  },
  {
   "source": [
    "Agora podemos realizar todas as etapas com chamadas de funções:\n"
   ],
   "cell_type": "markdown",
   "metadata": {}
  },
  {
   "source": [
    "# 03: Importando a Base de Dados\n",
    "\n",
    "Após realizar o download da base de dados, precisamos importar ela para a nossa aplicação."
   ],
   "cell_type": "markdown",
   "metadata": {}
  },
  {
   "cell_type": "code",
   "execution_count": 3,
   "metadata": {},
   "outputs": [],
   "source": [
    "def importar_dados():                           # Função para importar os dados\n",
    "    data_path = r'C:\\Users\\cassio\\Downloads\\Vendas - Dez.xlsx'  # Caminho dos dados no computador\n",
    "    return pd.read_excel(data_path)             # Retorna nossa base de dados\n",
    "\n",
    "def gerar_indicadores(data):                    # Função para gerar os indicadores\n",
    "    faturamento = data['Valor Final'].sum()     # Calcula o faturamento\n",
    "    qtde_produtos = data['Quantidade'].sum()    # Calcula o número total de produtos\n",
    "    return faturamento, qtde_produtos           # Retorna os indicadores"
   ]
  },
  {
   "source": [
    "# 04: Criando um Relatório\n",
    "\n",
    "Depois de feita a importação, análise e os indicadores, podemos criar nosso relatório e enviar para os e-mails escolhidos pelo gmail.\n"
   ],
   "cell_type": "markdown",
   "metadata": {}
  },
  {
   "cell_type": "code",
   "execution_count": 4,
   "metadata": {},
   "outputs": [],
   "source": [
    "def abrir_gmail():                      # Função para abrir o gmail\n",
    "    pyautogui.hotkey('ctrl', 't')       # Abre uma nova guia\n",
    "    pyautogui.write('mail.google.com')  # Escreve o url do gmail\n",
    "    pyautogui.press('enter')            # Entra no gmail\n",
    "    time.sleep(5)                       # Espera 5s para o carregamento\n",
    "    pyautogui.click(35, 170)            # Abre um novo email\n",
    "\n",
    "def enviar_relatorio(faturamento, qtde_produtos):                   # Função para gerar e enviar relatório\n",
    "    destinatarios = 'mamaubritosss@gmail.com, dragslow20@gmail.com' # Destinatarios do email\n",
    "    assunto = 'Relatório de Vendas Diário'                          # Assunto do email\n",
    "    relatorio = f'''\n",
    "    Olá prezados e prezadas, segue o relatório dos resultados de ontem.\n",
    "\n",
    "    O faturamento foi de: R${faturamento:,.2f}\n",
    "    A quantidade de produtos vendidas foi de {qtde_produtos:,}\n",
    "\n",
    "    Abs,\n",
    "    Cássio Fernando.\n",
    "    '''\n",
    "\n",
    "    escrever(destinatarios)             # Escreve os destinatários\n",
    "    pyautogui.press('tab')              # Vai para assunto\n",
    "    escrever(assunto)                   # Escreve o assunto\n",
    "    pyautogui.press('tab')              # Vai para o corpo\n",
    "    escrever(relatorio)                 # Escreve o relatório de produtos\n",
    "    pyautogui.hotkey('ctrl', 'enter')   # Envia o email"
   ]
  },
  {
   "source": [
    "# 05: Finalizando\n",
    "\n",
    "Agora que concluimos todas a etapas bastar colocar a aplicação para executar:\n"
   ],
   "cell_type": "markdown",
   "metadata": {}
  },
  {
   "cell_type": "code",
   "execution_count": 5,
   "metadata": {},
   "outputs": [],
   "source": [
    "inicio = pyautogui.confirm(text='Inicio do processo automatizado', title='Relatório WEB', buttons=['OK', 'Cancelar'])\n",
    "\n",
    "if inicio == 'OK':\n",
    "    abrir_chrome()                                          # Abre o google chrome\n",
    "    abrir_drive()                                           # Abre o link da base de dados no drive\n",
    "    baixar_dados()                                          # Baixa os dados\n",
    "\n",
    "    dados = importar_dados()                                # Importa nossos dados\n",
    "    faturamento, qtde_produtos = gerar_indicadores(dados)   # Gera os indicadores\n",
    "\n",
    "    abrir_gmail()                                           # Abre o gmail\n",
    "    enviar_relatorio(faturamento,qtde_produtos)             # Envia o relatorio\n",
    "\n",
    "    pyautogui.alert('Relatórios enviados!')                 # Informa o término do processo"
   ]
  }
 ]
}